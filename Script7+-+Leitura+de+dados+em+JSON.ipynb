{
 "cells": [
  {
   "cell_type": "markdown",
   "id": "e002f125",
   "metadata": {},
   "source": [
    "## Carregando dados de um arquivo JSON\n",
    "\n",
    " * Vamos analisar dados dentro de um arquivo JSON, dados mensagens sobre análise de sentimentos:\n",
    " \n",
    " 1. Carregar o arquivo de dados JSON\n",
    " 2. Entender o Schema gerado pelo arquivo\n",
    " 3. Separá-lo em fragmentos\n",
    " 4. Criar uma visão com os dados para analisar dentro do SPARK SQL\n",
    " 5. Mostrar as frases com sentimentos negativos\n",
    " \n",
    " "
   ]
  },
  {
   "cell_type": "code",
   "execution_count": null,
   "id": "0e69283c",
   "metadata": {},
   "outputs": [],
   "source": [
    "#importando sparksession\n",
    "from pyspark.sql import SparkSession\n",
    "\n",
    "#criando um objeto sparksession object e um appName \n",
    "sparkSession=SparkSession.builder.appName(\"sentimento\").getOrCreate()"
   ]
  },
  {
   "cell_type": "code",
   "execution_count": null,
   "id": "1b0d65b6",
   "metadata": {},
   "outputs": [],
   "source": [
    "# Carregando os dados arquivo JSON\n",
    "path = \"/Treinamento/Dados/sentimento.json\"\n",
    "sentimentoDF = sparkSession.read.json(path,multiLine = \"true\")"
   ]
  },
  {
   "cell_type": "code",
   "execution_count": null,
   "id": "7901ec1d",
   "metadata": {},
   "outputs": [],
   "source": [
    "#Exibindo os dados arquivo JSON\n",
    "sentimentoDF.show()"
   ]
  },
  {
   "cell_type": "code",
   "execution_count": null,
   "id": "622de1ca",
   "metadata": {},
   "outputs": [],
   "source": [
    "#Exibindo o schema arquivo JSON\n",
    "sentimentoDF.printSchema()"
   ]
  },
  {
   "cell_type": "code",
   "execution_count": null,
   "id": "f33efe0a",
   "metadata": {},
   "outputs": [],
   "source": [
    "# Especificando quais campos deseja trabalhar\n",
    "sent2DF = sentimentoDF.select(\"context\",\"qas.id\", \"qas.is_impossible\",\"qas.question\")\n",
    "sent2DF.printSchema()"
   ]
  },
  {
   "cell_type": "code",
   "execution_count": null,
   "id": "e7d48596",
   "metadata": {},
   "outputs": [],
   "source": [
    "# Exibindo os registros\n",
    "sent2DF.show(10, False)"
   ]
  },
  {
   "cell_type": "code",
   "execution_count": null,
   "id": "d6d7acf5",
   "metadata": {},
   "outputs": [],
   "source": [
    "# Separando em apenas 2 campos para uso no SQL\n",
    "sent3DF = sentimentoDF.select(\"context\", \"qas.question\")\n",
    "sent3DF.show()"
   ]
  },
  {
   "cell_type": "code",
   "execution_count": null,
   "id": "cc26755f",
   "metadata": {},
   "outputs": [],
   "source": [
    "# Criando uma visão com os dados\n",
    "sent3DF.createOrReplaceTempView(\"sentimentos\")"
   ]
  },
  {
   "cell_type": "code",
   "execution_count": null,
   "id": "369a2bda",
   "metadata": {},
   "outputs": [],
   "source": [
    "#Pesquisando dentre os dados todos que possuem a palavra HOPE\n",
    "sparkSession.sql(\"select context from sentimentos where context like '%hope%'\").show()"
   ]
  },
  {
   "cell_type": "code",
   "execution_count": null,
   "id": "b5c5907a",
   "metadata": {},
   "outputs": [],
   "source": [
    "# COnvertendo os dados de array para string coma  função concat_ws\n",
    "sent4DF = sparkSession.sql(\"select context, question, concat_ws(',',question)\" + \\\n",
    "                 \" as tps from sentimentos\")"
   ]
  },
  {
   "cell_type": "code",
   "execution_count": null,
   "id": "257b62fc",
   "metadata": {},
   "outputs": [],
   "source": [
    "# Criando uma visão com os dados\n",
    "sent4DF.createOrReplaceTempView(\"tipo_sentimento\")"
   ]
  },
  {
   "cell_type": "code",
   "execution_count": null,
   "id": "a901622e",
   "metadata": {},
   "outputs": [],
   "source": [
    "#Pesquisando dentre os dados todos que possuem o tipo de sentimento negativo\n",
    "sparkSession.sql(\"select context, question from tipo_sentimento where tps = 'negative'\").show()"
   ]
  },
  {
   "cell_type": "code",
   "execution_count": null,
   "id": "6aa859ef",
   "metadata": {},
   "outputs": [],
   "source": [
    "#Contagem dos tipos de sentimento\n",
    "sparkSession.sql(\"select tps, count(*) from tipo_sentimento group by tps\").show()"
   ]
  },
  {
   "cell_type": "code",
   "execution_count": null,
   "id": "113165fc",
   "metadata": {},
   "outputs": [],
   "source": []
  }
 ],
 "metadata": {
  "kernelspec": {
   "display_name": "Python 3",
   "language": "python",
   "name": "python3"
  },
  "language_info": {
   "codemirror_mode": {
    "name": "ipython",
    "version": 3
   },
   "file_extension": ".py",
   "mimetype": "text/x-python",
   "name": "python",
   "nbconvert_exporter": "python",
   "pygments_lexer": "ipython3",
   "version": "3.8.8"
  }
 },
 "nbformat": 4,
 "nbformat_minor": 5
}
