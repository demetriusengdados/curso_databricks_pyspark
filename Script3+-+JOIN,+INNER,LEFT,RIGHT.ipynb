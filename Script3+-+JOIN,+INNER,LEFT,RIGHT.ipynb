{
 "cells": [
  {
   "cell_type": "markdown",
   "id": "a150f3f3",
   "metadata": {},
   "source": [
    "## UTILIZANDO OPERAÇOES DE JOIN, LEFT e RIGHT\n"
   ]
  },
  {
   "cell_type": "code",
   "execution_count": 19,
   "id": "e4cd3440",
   "metadata": {},
   "outputs": [],
   "source": [
    "#Leitura dos arquivos de profissionais e salarios\n",
    "profissional=spark.sparkContext.textFile(\"/Treinamento/Dados/Folhapagamento/profissionais.txt\")\n",
    "salario=spark.sparkContext.textFile(\"/Treinamento/Dados/Folhapagamento/salario.txt\")"
   ]
  },
  {
   "cell_type": "code",
   "execution_count": 20,
   "id": "ff910d7d",
   "metadata": {},
   "outputs": [
    {
     "data": {
      "text/plain": [
       "['Carlos,oncologista,hospital',\n",
       " 'Ana,dentista,clinica',\n",
       " 'Fernanda,enfermeira,hospital',\n",
       " 'Sandra,pediatra,clinica',\n",
       " 'Fatima,dentista,clinica',\n",
       " 'Gilmar,cardiologista,hospital',\n",
       " 'Fabio,pediatra,clinica',\n",
       " 'Hilton,enfermeiro,clinica',\n",
       " 'Daiane,dentista,clinica',\n",
       " 'Paulo,farmaceutico,clinica',\n",
       " 'Gilberto,pediatra,hospital']"
      ]
     },
     "execution_count": 20,
     "metadata": {},
     "output_type": "execute_result"
    }
   ],
   "source": [
    "# Exibindo os dados sobre os profissionais\n",
    "profissional.collect()"
   ]
  },
  {
   "cell_type": "code",
   "execution_count": 9,
   "id": "d611516b",
   "metadata": {},
   "outputs": [
    {
     "data": {
      "text/plain": [
       "['Carlos,10000',\n",
       " 'Ana,7000',\n",
       " 'Fernanda,5000',\n",
       " 'Sandra,6000',\n",
       " 'Fatima,8500',\n",
       " 'Gilmar,9000',\n",
       " 'Fabio,12000',\n",
       " 'Hilton,5000',\n",
       " 'Jefferson,8000',\n",
       " 'Antonio,3000',\n",
       " 'Joaquim,5000']"
      ]
     },
     "execution_count": 9,
     "metadata": {},
     "output_type": "execute_result"
    }
   ],
   "source": [
    "#Exibindo os dados sobre salario\n",
    "salario.collect()"
   ]
  },
  {
   "cell_type": "code",
   "execution_count": 21,
   "id": "bb318ec6",
   "metadata": {},
   "outputs": [
    {
     "data": {
      "text/plain": [
       "[('Carlos', ('oncologista', 'hospital')),\n",
       " ('Ana', ('dentista', 'clinica')),\n",
       " ('Fernanda', ('enfermeira', 'hospital')),\n",
       " ('Sandra', ('pediatra', 'clinica')),\n",
       " ('Fatima', ('dentista', 'clinica')),\n",
       " ('Gilmar', ('cardiologista', 'hospital')),\n",
       " ('Fabio', ('pediatra', 'clinica')),\n",
       " ('Hilton', ('enfermeiro', 'clinica')),\n",
       " ('Daiane', ('dentista', 'clinica')),\n",
       " ('Paulo', ('farmaceutico', 'clinica')),\n",
       " ('Gilberto', ('pediatra', 'hospital'))]"
      ]
     },
     "execution_count": 21,
     "metadata": {},
     "output_type": "execute_result"
    }
   ],
   "source": [
    "# realizando o mapeamento de cada campo, o primeiro campo é sempre indice 0\n",
    "profissional_ajuste=profissional.map(lambda x:(x.split(\",\")[0],(x.split(\",\")[1],x.split(\",\")[2])))\n",
    "profissional_ajuste.collect()"
   ]
  },
  {
   "cell_type": "code",
   "execution_count": 22,
   "id": "8538c346",
   "metadata": {},
   "outputs": [],
   "source": [
    "#realizando o mapeamento dos campos sobre salario\n",
    "salario_ajuste=salario.map(lambda x:(x.split(\",\")[0],x.split(\",\")[1]))"
   ]
  },
  {
   "cell_type": "code",
   "execution_count": 23,
   "id": "c6a820c3",
   "metadata": {},
   "outputs": [
    {
     "data": {
      "text/plain": [
       "[('Carlos', (('oncologista', 'hospital'), '10000')),\n",
       " ('Gilmar', (('cardiologista', 'hospital'), '9000')),\n",
       " ('Fatima', (('dentista', 'clinica'), '8500')),\n",
       " ('Fabio', (('pediatra', 'clinica'), '12000')),\n",
       " ('Ana', (('dentista', 'clinica'), '7000')),\n",
       " ('Fernanda', (('enfermeira', 'hospital'), '5000')),\n",
       " ('Sandra', (('pediatra', 'clinica'), '6000')),\n",
       " ('Hilton', (('enfermeiro', 'clinica'), '5000'))]"
      ]
     },
     "execution_count": 23,
     "metadata": {},
     "output_type": "execute_result"
    }
   ],
   "source": [
    "# Realizando a operacao de join, que significa a busca de todas as informacoes no RDD\n",
    "# profissional e que exista no RDD salario\n",
    "folha_pagamento_join=profissional_ajuste.join(salario_ajuste)\n",
    "folha_pagamento_join.collect()"
   ]
  },
  {
   "cell_type": "code",
   "execution_count": 24,
   "id": "f8695454",
   "metadata": {},
   "outputs": [
    {
     "data": {
      "text/plain": [
       "[('Carlos', (('oncologista', 'hospital'), '10000')),\n",
       " ('Gilmar', (('cardiologista', 'hospital'), '9000')),\n",
       " ('Fatima', (('dentista', 'clinica'), '8500')),\n",
       " ('Fabio', (('pediatra', 'clinica'), '12000')),\n",
       " ('Gilberto', (('pediatra', 'hospital'), None)),\n",
       " ('Daiane', (('dentista', 'clinica'), None)),\n",
       " ('Ana', (('dentista', 'clinica'), '7000')),\n",
       " ('Fernanda', (('enfermeira', 'hospital'), '5000')),\n",
       " ('Sandra', (('pediatra', 'clinica'), '6000')),\n",
       " ('Hilton', (('enfermeiro', 'clinica'), '5000')),\n",
       " ('Paulo', (('farmaceutico', 'clinica'), None))]"
      ]
     },
     "execution_count": 24,
     "metadata": {},
     "output_type": "execute_result"
    }
   ],
   "source": [
    "# Realizando a operacao de left, que significa a busca de todas as informacoes no RDD\n",
    "# profissional e que exista ou nao no RDD salario\n",
    "folha_pagamento_join=profissional_ajuste.leftOuterJoin(salario_ajuste)\n",
    "folha_pagamento_join.collect()"
   ]
  },
  {
   "cell_type": "code",
   "execution_count": 25,
   "id": "f94c9f00",
   "metadata": {},
   "outputs": [
    {
     "data": {
      "text/plain": [
       "[('Carlos', (('oncologista', 'hospital'), '10000')),\n",
       " ('Gilmar', (('cardiologista', 'hospital'), '9000')),\n",
       " ('Fatima', (('dentista', 'clinica'), '8500')),\n",
       " ('Fabio', (('pediatra', 'clinica'), '12000')),\n",
       " ('Joaquim', (None, '5000')),\n",
       " ('Antonio', (None, '3000')),\n",
       " ('Ana', (('dentista', 'clinica'), '7000')),\n",
       " ('Fernanda', (('enfermeira', 'hospital'), '5000')),\n",
       " ('Sandra', (('pediatra', 'clinica'), '6000')),\n",
       " ('Hilton', (('enfermeiro', 'clinica'), '5000')),\n",
       " ('Jefferson', (None, '8000'))]"
      ]
     },
     "execution_count": 25,
     "metadata": {},
     "output_type": "execute_result"
    }
   ],
   "source": [
    "# Realizando a operacao de right, que significa a busca de todas as informacoes no RDD\n",
    "# salario e que exista ou nao no RDD profissional\n",
    "folha_pagamento_join=profissional_ajuste.rightOuterJoin(salario_ajuste)\n",
    "folha_pagamento_join.collect()"
   ]
  },
  {
   "cell_type": "code",
   "execution_count": null,
   "id": "83c0fe3b",
   "metadata": {},
   "outputs": [],
   "source": []
  }
 ],
 "metadata": {
  "kernelspec": {
   "display_name": "Python 3",
   "language": "python",
   "name": "python3"
  },
  "language_info": {
   "codemirror_mode": {
    "name": "ipython",
    "version": 3
   },
   "file_extension": ".py",
   "mimetype": "text/x-python",
   "name": "python",
   "nbconvert_exporter": "python",
   "pygments_lexer": "ipython3",
   "version": "3.8.8"
  }
 },
 "nbformat": 4,
 "nbformat_minor": 5
}
