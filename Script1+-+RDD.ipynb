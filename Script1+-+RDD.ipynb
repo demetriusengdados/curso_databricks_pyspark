{
 "cells": [
  {
   "cell_type": "markdown",
   "id": "9c801190",
   "metadata": {},
   "source": [
    "## Treinamento Pyspark\n",
    "# Primeiro script1 - RDD e operações"
   ]
  },
  {
   "cell_type": "code",
   "execution_count": null,
   "id": "3a460a49",
   "metadata": {},
   "outputs": [],
   "source": [
    "#versão do python\n",
    "import sys\n",
    "print(sys.version)"
   ]
  },
  {
   "cell_type": "code",
   "execution_count": null,
   "id": "aba07fdc",
   "metadata": {},
   "outputs": [],
   "source": [
    "#versão do Spark Context\n",
    "print(sc.version)"
   ]
  },
  {
   "cell_type": "code",
   "execution_count": null,
   "id": "42900646",
   "metadata": {},
   "outputs": [],
   "source": [
    "#Criando um RDD com 6 elemntos, seria a transformação de ma lista em puthon para um RDD paralelizado \n",
    "paises = [\"Brasil\",\"Italia\",\"Russia\",\"Noruega\",\"Espanha\",\"Mexico\"]\n",
    "dadosrdd=spark.sparkContext.parallelize(paises)"
   ]
  },
  {
   "cell_type": "code",
   "execution_count": null,
   "id": "74269b32",
   "metadata": {},
   "outputs": [],
   "source": [
    "#Exibição de uma coleção, ou seja, todos os dados gravados no RDD sobre paises\n",
    "dadosrdd.collect()"
   ]
  },
  {
   "cell_type": "code",
   "execution_count": null,
   "id": "b830560d",
   "metadata": {},
   "outputs": [],
   "source": [
    "#conta a quantidade de elementos presentes no RDD sobre paises\n",
    "dadosrdd.count()"
   ]
  },
  {
   "cell_type": "code",
   "execution_count": null,
   "id": "92652bb4",
   "metadata": {},
   "outputs": [],
   "source": [
    "# Exibindio a quantidade de particoes  \n",
    "dadosrdd2 = spark.sparkContext.parallelize(paises)\n",
    "print(\"Particoes: \"+str(dadosrdd2.getNumPartitions()))"
   ]
  },
  {
   "cell_type": "code",
   "execution_count": null,
   "id": "6bbab050",
   "metadata": {},
   "outputs": [],
   "source": [
    "# Forçando a quantidade de particoes em 5\n",
    "dadosrdd3 = spark.sparkContext.parallelize(paises, 5)\n",
    "print(\"Particoes Paralelas: \"+str(dadosrdd3.getNumPartitions()))\n"
   ]
  },
  {
   "cell_type": "code",
   "execution_count": null,
   "id": "24f7cc41",
   "metadata": {},
   "outputs": [],
   "source": [
    "#Carregando um arquivo externo para um RDD\n",
    "food = spark.sparkContext.textFile(\"/Treinamento/Dados/food_coded.csv\")"
   ]
  },
  {
   "cell_type": "code",
   "execution_count": null,
   "id": "cb186d40",
   "metadata": {},
   "outputs": [],
   "source": [
    "#Mostrando os 5 primeiros elemnetos do RDD, note que o cabeçalho também está disponível\n",
    "food.take(5)"
   ]
  },
  {
   "cell_type": "code",
   "execution_count": null,
   "id": "0f07f230",
   "metadata": {},
   "outputs": [],
   "source": [
    "# Será criado uma RDD lendo dados de um arquivo .csv de uma forma diferente, utilizanso o Sparn Context (sc)\n",
    "#  Arquivo sobre dados de alimentos\n",
    "food2 = sc.textFile(\"/Treinamento/Dados/food_coded.csv\")"
   ]
  },
  {
   "cell_type": "code",
   "execution_count": null,
   "id": "fdabaf07",
   "metadata": {},
   "outputs": [],
   "source": [
    "#Mostrando os 5 primeiros elementos do RDD, que foi carregado utilizando o Spark Context\n",
    "food2.take(5)"
   ]
  },
  {
   "cell_type": "code",
   "execution_count": null,
   "id": "90ebbaf7",
   "metadata": {},
   "outputs": [],
   "source": [
    "#Salvando os dados na pasta, extraindo dados do RDD para um arquivo\n",
    "GuardaRDD = open(\"/Treinamento/Dados/5primfood.csv\",\"w\")\n",
    "GuardaRDD.write(\"\\n\".join(food.take(5)))\n",
    "GuardaRDD.close()"
   ]
  },
  {
   "cell_type": "code",
   "execution_count": null,
   "id": "e425a440",
   "metadata": {},
   "outputs": [],
   "source": [
    "#Exibindo o primeiro dado dentro do RDD\n",
    "food.first()"
   ]
  },
  {
   "cell_type": "code",
   "execution_count": null,
   "id": "47bf3400",
   "metadata": {},
   "outputs": [],
   "source": [
    "#Determinando a quantidade elementos, subtraindo de -1 para retirar o cabecalho\n",
    "food.count()-1"
   ]
  },
  {
   "cell_type": "code",
   "execution_count": null,
   "id": "56fee518",
   "metadata": {},
   "outputs": [],
   "source": [
    "#Pesquisa uma palavra dentro o grupo de dados\n",
    "filtro_palavra = food.filter(lambda x: 'rice' in x)\n",
    "filtro_palavra.collect()\n"
   ]
  },
  {
   "cell_type": "code",
   "execution_count": null,
   "id": "17f7fbab",
   "metadata": {},
   "outputs": [],
   "source": [
    "# persistindo os dados em memória para ficar mais rápido,s e ouver muitos dados isso acelerará a pesquisa\n",
    "food.cache()"
   ]
  },
  {
   "cell_type": "code",
   "execution_count": null,
   "id": "e6ed74b4",
   "metadata": {},
   "outputs": [],
   "source": []
  }
 ],
 "metadata": {
  "kernelspec": {
   "display_name": "Python 3",
   "language": "python",
   "name": "python3"
  },
  "language_info": {
   "codemirror_mode": {
    "name": "ipython",
    "version": 3
   },
   "file_extension": ".py",
   "mimetype": "text/x-python",
   "name": "python",
   "nbconvert_exporter": "python",
   "pygments_lexer": "ipython3",
   "version": "3.8.8"
  }
 },
 "nbformat": 4,
 "nbformat_minor": 5
}
