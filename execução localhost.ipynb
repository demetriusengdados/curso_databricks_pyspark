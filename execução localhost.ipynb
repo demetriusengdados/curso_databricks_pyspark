{
 "cells": [
  {
   "cell_type": "code",
   "execution_count": null,
   "metadata": {},
   "outputs": [],
   "source": [
    "spark = SparkSession.builder.master(\"local\").\\\n",
    "appName(\"Word Count\").\\\n",
    "config(\"spark.driver.bindAddress\",\"localhost\").\\\n",
    "config(\"spark.ui.port\",\"4050\").\\\n",
    "getOrCreate()"
   ]
  }
 ],
 "metadata": {
  "language_info": {
   "name": "python"
  },
  "orig_nbformat": 4
 },
 "nbformat": 4,
 "nbformat_minor": 2
}
