{
 "cells": [
  {
   "cell_type": "code",
   "execution_count": null,
   "id": "e914291a",
   "metadata": {},
   "outputs": [],
   "source": [
    "# carregando os dados sobre economia\n",
    "data = spark.sparkContext.textFile(\"/Treinamento/Dados/Economia/regiao-sul.txt,/Treinamento/Dados/Economia/regiao-norte.txt\")"
   ]
  },
  {
   "cell_type": "code",
   "execution_count": null,
   "id": "b575b139",
   "metadata": {},
   "outputs": [],
   "source": [
    "# Separação das palavras com o uso da funcao lambda e split\n",
    "palavras=data.flatMap(lambda x: x.split(\" \"))\n"
   ]
  },
  {
   "cell_type": "code",
   "execution_count": null,
   "id": "86d897d3",
   "metadata": {},
   "outputs": [],
   "source": [
    "# Exibicao da colecao de palavras\n",
    "for plv in palavras.collect():\n",
    "    print(plv)"
   ]
  },
  {
   "cell_type": "code",
   "execution_count": null,
   "id": "a13a586f",
   "metadata": {},
   "outputs": [],
   "source": [
    "#Funcao que tranforma em minuscula todas as palavras\n",
    "def func1(x):\n",
    "     minuscula=x.lower()\n",
    "     return (minuscula)\n",
    "allpalminuscula=palavras.map(lambda x: func1(x))"
   ]
  },
  {
   "cell_type": "code",
   "execution_count": null,
   "id": "c4003765",
   "metadata": {},
   "outputs": [],
   "source": [
    "# Exibe a colecao de dados\n",
    "allpalminuscula.collect()"
   ]
  },
  {
   "cell_type": "code",
   "execution_count": null,
   "id": "5c067423",
   "metadata": {},
   "outputs": [],
   "source": [
    "# Cria a lista de stop words que será filtrada \n",
    "stop_words = ['e','do','das','na','há','ser','são','para','por', 'as','em','no','nas','uma','que','como','com','','os','o','a','da','de','nas','é']\n",
    "filtro_palavras = allpalminuscula.filter(lambda x: x not in stop_words)"
   ]
  },
  {
   "cell_type": "code",
   "execution_count": null,
   "id": "d4608552",
   "metadata": {},
   "outputs": [],
   "source": [
    "# Exibe a colecao de ddos ja filtrada\n",
    "filtro_palavras.collect()"
   ]
  },
  {
   "cell_type": "code",
   "execution_count": null,
   "id": "4508fa5d",
   "metadata": {},
   "outputs": [],
   "source": [
    "#Praparando o contador para somar a quantidade de palavras, colocando o número 1 ao lado das palavras\n",
    "freqpal = filtro_palavras.map(lambda x: [x,1]) "
   ]
  },
  {
   "cell_type": "code",
   "execution_count": null,
   "id": "8aafdb7a",
   "metadata": {},
   "outputs": [],
   "source": [
    "#Frequencia de palavras\n",
    "freqpal.collect()"
   ]
  },
  {
   "cell_type": "code",
   "execution_count": null,
   "id": "15ac2c33",
   "metadata": {},
   "outputs": [],
   "source": [
    "#utilizando a função REduceKey para somar o contador\n",
    "from operator import add\n",
    "totalpal = freqpal.reduceByKey(add)"
   ]
  },
  {
   "cell_type": "code",
   "execution_count": null,
   "id": "60f711fb",
   "metadata": {},
   "outputs": [],
   "source": [
    "#Exibibindo a contagem ao lado da palavra\n",
    "totalpal.collect()"
   ]
  },
  {
   "cell_type": "code",
   "execution_count": null,
   "id": "8ed0ba90",
   "metadata": {},
   "outputs": [],
   "source": [
    "#Realizando um for interativo para colocar as palavras em ordem decescentes\n",
    "for i in totalpal.sortBy(keyfunc = lambda x:x[1],ascending=False).collect():print(i)\n"
   ]
  },
  {
   "cell_type": "code",
   "execution_count": null,
   "id": "9fa3ca49",
   "metadata": {},
   "outputs": [],
   "source": []
  }
 ],
 "metadata": {
  "kernelspec": {
   "display_name": "Python 3",
   "language": "python",
   "name": "python3"
  },
  "language_info": {
   "codemirror_mode": {
    "name": "ipython",
    "version": 3
   },
   "file_extension": ".py",
   "mimetype": "text/x-python",
   "name": "python",
   "nbconvert_exporter": "python",
   "pygments_lexer": "ipython3",
   "version": "3.8.8"
  }
 },
 "nbformat": 4,
 "nbformat_minor": 5
}
